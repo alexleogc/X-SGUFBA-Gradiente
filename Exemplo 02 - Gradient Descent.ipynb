{
 "cells": [
  {
   "cell_type": "code",
   "execution_count": 1,
   "metadata": {},
   "outputs": [],
   "source": [
    "#Importando bibliotecas\n",
    "import numpy as np\n",
    "import matplotlib.pyplot as plt\n",
    "from sklearn.metrics import mean_squared_error"
   ]
  },
  {
   "cell_type": "markdown",
   "metadata": {},
   "source": [
    "## <center> Algoritmo Gradiente (Gradient Descent) </center>\n",
    "\n",
    "Suponha que um conjunto de observações ($\\textbf{y}=[y_1,y_2,...,y_n]^t$), o qual supomos que seja possível representar em função de um conjunto de medidas $\\textbf{X} = [x_1,x_2,...x_n]^t$:\n",
    "\n",
    "$$ \\textbf{y} = \\beta_0 \\textbf{u} + \\beta_1 \\textbf{x}_1 + \\textbf{e}$$\n",
    "\n",
    "O objetivo é obter um modelo que minimize o erro quadrático médio entre as obervações e um modelo linear:\n",
    "\n",
    "$$\\underset{\\beta_0 , \\beta_1}{min} \\; \\; \\textbf{e}^t\\textbf{e} = ||\\textbf{y} - \\beta_0 \\textbf{u} - \\beta_1 \\textbf{x}_1||^2 $$"
   ]
  },
  {
   "cell_type": "code",
   "execution_count": 2,
   "metadata": {},
   "outputs": [],
   "source": [
    "def predict (beta,X):\n",
    "    \"\"\"\n",
    "    Calculo matricial de uma função linear:\n",
    "    \n",
    "    X - matriz das observações; e\n",
    "    beta - Variáveis da função calculada\n",
    "    \"\"\"\n",
    "    \n",
    "    X = np.asarray(X) ; beta = np.asarray(beta)\n",
    "    return X.dot(beta)"
   ]
  },
  {
   "cell_type": "markdown",
   "metadata": {},
   "source": [
    "#### Testando em uma função do tipo:\n",
    "\n",
    "$$ y = 2 + 2x$$"
   ]
  },
  {
   "cell_type": "code",
   "execution_count": 3,
   "metadata": {},
   "outputs": [
    {
     "data": {
      "text/plain": [
       "6"
      ]
     },
     "execution_count": 3,
     "metadata": {},
     "output_type": "execute_result"
    }
   ],
   "source": [
    "beta = [2,2]\n",
    "X = [2,1]\n",
    "\n",
    "predict(beta,X)"
   ]
  },
  {
   "cell_type": "markdown",
   "metadata": {},
   "source": [
    "____"
   ]
  },
  {
   "cell_type": "markdown",
   "metadata": {},
   "source": [
    "## <center> Função objetivo (custo) </center>\n",
    "\n",
    "A função objetivo a qual desejamos minimizar na regressão linear é:\n",
    "\n",
    "$$L(\\boldsymbol{\\beta}) = \\frac{1}{n} || \\textbf{y} - \\beta_0 \\textbf{u} - \\beta_1 \\textbf{x}_1 ||^2 = \\frac{1}{n} (\\textbf{y} - \\beta_0 \\textbf{u} - \\beta_1 \\textbf{x}_1 )^t(\\textbf{y} - \\beta_0 \\textbf{u} - \\beta_1 \\textbf{x}_1)$$\n",
    "\n",
    "\n",
    "\\\\\n",
    "\n",
    "$$ \\frac{\\partial L}{\\partial \\boldsymbol{\\beta}} = \\begin{cases}\n",
    " \\frac{\\partial L}{\\beta_0}= 2 ||\\textbf{y}-\\beta_0 \\textbf{u} -\\beta_1 \\textbf{x}_1||\\textbf{u} = (\\textbf{y}-\\beta_0 \\textbf{u} -\\beta_1 \\textbf{x}_1)^t \\textbf{u} \\\\ \\\\\n",
    " \\frac{\\partial L}{\\beta_1}= 2 ||\\textbf{y}-\\beta_0 \\textbf{u} -\\beta_1 \\textbf{x}_1||\\textbf{x}_1 = (\\textbf{y}-\\beta_0 \\textbf{u} -\\beta_1 \\textbf{x}_1)^t \\textbf{x}_1 \\\\ \n",
    "\\end{cases}$$\n"
   ]
  },
  {
   "cell_type": "markdown",
   "metadata": {},
   "source": [
    "Podemos expandir a função objetivo para um modelo de multiplas variáveis:\n",
    "\n",
    "$$L(\\boldsymbol{\\beta}) = \\frac{1}{n} || \\textbf{y} - \\beta_0 \\textbf{u} - \\beta_1 \\textbf{x}_1 - \\beta_2 \\textbf{x}_2 + ... - \\beta_j \\textbf{x}_j ||^2 $$\n",
    "\n",
    "\\\\\n",
    "\n",
    "\n",
    "$$ \\frac{\\partial L}{\\partial \\boldsymbol{\\beta}} = \\begin{cases}\n",
    " \\frac{\\partial L}{\\beta_0}= 2 ||\\textbf{y}-\\beta_0 \\textbf{u} -\\beta_1 \\textbf{x}_1 - \\beta_2\\textbf{x}_2 - ... + \\beta_j \\textbf{x}_j||\\textbf{u} = (\\textbf{y}-\\beta_0 \\textbf{u} -\\beta_1 \\textbf{x}_1-\\beta_2\\textbf{x}_2 - ... - \\beta_j \\textbf{x}_j)^t \\textbf{u} \\\\ \\\\\n",
    "  \\frac{\\partial L}{\\beta_1}= 2 ||\\textbf{y}-\\beta_0 \\textbf{u} -\\beta_1 \\textbf{x}_1 - \\beta_2\\textbf{x}_2 - ... + \\beta_j \\textbf{x}_j||\\textbf{x}_1 = (\\textbf{y}-\\beta_0 \\textbf{u} -\\beta_1 \\textbf{x}_1-\\beta_2\\textbf{x}_2 - ... - \\beta_j \\textbf{x}_j)^t \\textbf{x}_1 \\\\ \\\\\n",
    " \\frac{\\partial L}{\\beta_2}= 2 ||\\textbf{y}-\\beta_0 \\textbf{u} -\\beta_1 \\textbf{x}_1 - \\beta_2\\textbf{x}_2 - ... + \\beta_j \\textbf{x}_j||\\textbf{x}_2 = (\\textbf{y}-\\beta_0 \\textbf{u} -\\beta_1 \\textbf{x}_1-\\beta_2\\textbf{x}_2 - ... - \\beta_j \\textbf{x}_j)^t \\textbf{x}_2\\\\ \\\\\n",
    " \\vdots \\; \\; \\; = \\; \\; \\; \\; \\; \\; \\; \\; \\; \\; \\; \\; \\; \\; \\; \\; \\; \\; \\; \\; \\; \\; \\; \\; \\; \\; \\; \\vdots \\\\ \\\\\n",
    "  \\frac{\\partial L}{\\beta_j}= 2 ||\\textbf{y}-\\beta_0 \\textbf{u} -\\beta_1 \\textbf{x}_1 - \\beta_2\\textbf{x}_2 - ... + \\beta_j \\textbf{x}_j||\\textbf{x}_j\\ = (\\textbf{y}-\\beta_0 \\textbf{u} -\\beta_1 \\textbf{x}_1-\\beta_2\\textbf{x}_2 - ... - \\beta_j \\textbf{x}_j)^t \\textbf{x}_j\\\\ \\\\\n",
    "\\end{cases}$$\n"
   ]
  },
  {
   "cell_type": "code",
   "execution_count": 4,
   "metadata": {},
   "outputs": [],
   "source": [
    "def cost(theta,X,y):\n",
    "    \"\"\"\n",
    "    Função custo que computa os desvios entre o dado observado e o calculado:\n",
    "    X - Matriz das variáveis observadas (nxm : n - número de variáveis ; m - número de observações)\n",
    "    y - Vetor de com as respostas esperadas (tamanho m) \n",
    "    \"\"\"\n",
    "    return np.sum((y-predict(theta,X))**2)/len(y)"
   ]
  },
  {
   "cell_type": "markdown",
   "metadata": {},
   "source": [
    "#### implementando o algoritmo do gradiente"
   ]
  },
  {
   "cell_type": "code",
   "execution_count": 5,
   "metadata": {},
   "outputs": [],
   "source": [
    "def gradient_descent(X,y,beta,alpha=0.01,ninter=100):\n",
    "    \n",
    "    try: X = np.append(X.reshape((len(X),1)),(np.ones((len(X),1))),axis=1)\n",
    "    except: X = np.append(X,(np.ones((len(X),1))),axis=1)\n",
    "\n",
    "    beta = np.asarray(beta)\n",
    "    cost_history = np.zeros(ninter) ; beta_history = np.zeros((ninter,len(beta)))\n",
    "    \n",
    "    for i in range(ninter):\n",
    "        beta = beta- alpha*(X.T.dot((predict(beta,X))-y))*(2/len(y))\n",
    "        beta_history[i,:] = beta\n",
    "        cost_history[i] = cost(beta,X,y)\n",
    "        \n",
    "    return beta, cost_history, beta_history"
   ]
  },
  {
   "cell_type": "markdown",
   "metadata": {},
   "source": [
    "## <center> Exemplo (dado sintético) </center>"
   ]
  },
  {
   "cell_type": "markdown",
   "metadata": {},
   "source": [
    "#### Gerando um Dataset sintético:\n",
    "\n",
    "A função utilizada para gerar o conjunto de dados sintético será:\n",
    "\n",
    "$$ y = \\beta_0 + \\beta_1 x$$\n",
    "\n",
    "onde $\\beta_0 = 7$ e $\\beta_1 = 3$, ou seja:\n",
    "\n",
    "$$ y = 7+3x $$"
   ]
  },
  {
   "cell_type": "code",
   "execution_count": 6,
   "metadata": {},
   "outputs": [],
   "source": [
    "X = 5*np.random.rand(250)  #Gerando as observações aleatóriamente\n",
    "y = 5*X + 7 + np.random.normal(scale=3,size=250) # adicionando um ruído no dado observado"
   ]
  },
  {
   "cell_type": "code",
   "execution_count": 7,
   "metadata": {},
   "outputs": [
    {
     "data": {
      "text/plain": [
       "<matplotlib.legend.Legend at 0x7f4a07106978>"
      ]
     },
     "execution_count": 7,
     "metadata": {},
     "output_type": "execute_result"
    },
    {
     "data": {
      "image/png": "[encoded data removed]",
      "text/plain": [
       "<Figure size 432x288 with 1 Axes>"
      ]
     },
     "metadata": {
      "needs_background": "light"
     },
     "output_type": "display_data"
    }
   ],
   "source": [
    "plt.scatter(X,y,edgecolor='black',label='Dado observado')\n",
    "plt.xlabel('X') ; plt.ylabel('Y')\n",
    "plt.legend()"
   ]
  },
  {
   "cell_type": "markdown",
   "metadata": {},
   "source": [
    "#### Gerando um modelo inicial"
   ]
  },
  {
   "cell_type": "code",
   "execution_count": 46,
   "metadata": {},
   "outputs": [
    {
     "data": {
      "text/plain": [
       "array([14.32915   ,  7.39043911])"
      ]
     },
     "execution_count": 46,
     "metadata": {},
     "output_type": "execute_result"
    }
   ],
   "source": [
    "beta_ini = 15*np.random.normal(size=2)\n",
    "beta_ini"
   ]
  },
  {
   "cell_type": "code",
   "execution_count": 47,
   "metadata": {},
   "outputs": [],
   "source": [
    "x_1 = np.append(X.reshape((len(X),1)),(np.ones((len(X),1))),axis=1)"
   ]
  },
  {
   "cell_type": "code",
   "execution_count": 48,
   "metadata": {},
   "outputs": [
    {
     "data": {
      "text/plain": [
       "<matplotlib.legend.Legend at 0x7f4a04f7df60>"
      ]
     },
     "execution_count": 48,
     "metadata": {},
     "output_type": "execute_result"
    },
    {
     "data": {
      "image/png": "[encoded data removed]",
      "text/plain": [
       "<Figure size 432x288 with 1 Axes>"
      ]
     },
     "metadata": {
      "needs_background": "light"
     },
     "output_type": "display_data"
    }
   ],
   "source": [
    "plt.scatter(X,y,edgecolor='black',label='Dado observado')\n",
    "\n",
    "plt.plot(X,predict(beta_ini,x_1),label='Modelo inicial')\n",
    "\n",
    "plt.xlabel('X') ; plt.ylabel('Y')\n",
    "\n",
    "plt.legend()"
   ]
  },
  {
   "cell_type": "code",
   "execution_count": 49,
   "metadata": {},
   "outputs": [
    {
     "data": {
      "text/plain": [
       "703.1727346771786"
      ]
     },
     "execution_count": 49,
     "metadata": {},
     "output_type": "execute_result"
    }
   ],
   "source": [
    "mean_squared_error(y,predict(beta_ini,x_1))"
   ]
  },
  {
   "cell_type": "code",
   "execution_count": 50,
   "metadata": {},
   "outputs": [
    {
     "data": {
      "text/plain": [
       "703.1727346771786"
      ]
     },
     "execution_count": 50,
     "metadata": {},
     "output_type": "execute_result"
    }
   ],
   "source": [
    "np.sum((y-predict(beta_ini,x_1))**2)/len(X)"
   ]
  },
  {
   "cell_type": "code",
   "execution_count": 51,
   "metadata": {},
   "outputs": [
    {
     "data": {
      "text/plain": [
       "703.1727346771786"
      ]
     },
     "execution_count": 51,
     "metadata": {},
     "output_type": "execute_result"
    }
   ],
   "source": [
    "cost(beta_ini,x_1,y)"
   ]
  },
  {
   "cell_type": "markdown",
   "metadata": {},
   "source": [
    "#### Ajustando a reta utilizando o método do gradiente"
   ]
  },
  {
   "cell_type": "code",
   "execution_count": 66,
   "metadata": {},
   "outputs": [],
   "source": [
    "beta_calc, cost_hist, beta_hist = gradient_descent(X,y,beta_ini,alpha=0.1,ninter=10)"
   ]
  },
  {
   "cell_type": "code",
   "execution_count": 67,
   "metadata": {},
   "outputs": [
    {
     "name": "stdout",
     "output_type": "stream",
     "text": [
      "modelo inicial: [2, 2] \n",
      " modelo gradiente: [5.5366511  5.57217268]\n"
     ]
    }
   ],
   "source": [
    "print(\"modelo inicial: {} \\n modelo gradiente: {}\".format(beta,beta_calc))"
   ]
  },
  {
   "cell_type": "code",
   "execution_count": 68,
   "metadata": {},
   "outputs": [
    {
     "data": {
      "text/plain": [
       "array([5.5366511 , 5.57217268])"
      ]
     },
     "execution_count": 68,
     "metadata": {},
     "output_type": "execute_result"
    }
   ],
   "source": [
    "beta_calc"
   ]
  },
  {
   "cell_type": "code",
   "execution_count": 69,
   "metadata": {},
   "outputs": [
    {
     "data": {
      "text/plain": [
       "10.252887236081133"
      ]
     },
     "execution_count": 69,
     "metadata": {},
     "output_type": "execute_result"
    }
   ],
   "source": [
    "cost_hist[-1]"
   ]
  },
  {
   "cell_type": "markdown",
   "metadata": {},
   "source": [
    "#### Plotando ajuste"
   ]
  },
  {
   "cell_type": "code",
   "execution_count": 70,
   "metadata": {},
   "outputs": [
    {
     "data": {
      "text/plain": [
       "<matplotlib.legend.Legend at 0x7f4a045cbcc0>"
      ]
     },
     "execution_count": 70,
     "metadata": {},
     "output_type": "execute_result"
    },
    {
     "data": {
      "image/png": "[encoded data removed]",
      "text/plain": [
       "<Figure size 432x288 with 1 Axes>"
      ]
     },
     "metadata": {
      "needs_background": "light"
     },
     "output_type": "display_data"
    }
   ],
   "source": [
    "plt.scatter(X,y,edgecolor='black',label='Dado observado')\n",
    "\n",
    "plt.plot(X,predict(beta_calc,x_1),lw=3,c='red',label='Modelo inicial')\n",
    "\n",
    "plt.xlabel('X') ; plt.ylabel('Y')\n",
    "\n",
    "plt.legend()"
   ]
  },
  {
   "cell_type": "code",
   "execution_count": 71,
   "metadata": {},
   "outputs": [
    {
     "data": {
      "text/plain": [
       "array([5.5366511 , 5.57217268])"
      ]
     },
     "execution_count": 71,
     "metadata": {},
     "output_type": "execute_result"
    }
   ],
   "source": [
    "beta_calc"
   ]
  },
  {
   "cell_type": "markdown",
   "metadata": {},
   "source": [
    "#### Plotando a função custo"
   ]
  },
  {
   "cell_type": "code",
   "execution_count": 72,
   "metadata": {},
   "outputs": [
    {
     "data": {
      "text/plain": [
       "<matplotlib.colorbar.Colorbar at 0x7f4a045102b0>"
      ]
     },
     "execution_count": 72,
     "metadata": {},
     "output_type": "execute_result"
    },
    {
     "data": {
      "image/png": "[encoded data removed]",
      "text/plain": [
       "<Figure size 720x576 with 2 Axes>"
      ]
     },
     "metadata": {
      "needs_background": "light"
     },
     "output_type": "display_data"
    }
   ],
   "source": [
    "plt.figure(figsize=(10,8))\n",
    "\n",
    "beta_0, beta_1 = np.linspace(-20,20,200),np.linspace(-20,20,200)\n",
    "\n",
    "b0,b1 = np.meshgrid(beta_0,beta_1)\n",
    "\n",
    "cost_map = np.zeros(shape=b0.shape)\n",
    "\n",
    "for i in range(0,200):\n",
    "    for j in range(0,200):\n",
    "        cost_map[i][j] = cost(np.asarray([b1[i][j],b0[i][j]]),x_1,y)\n",
    "        \n",
    "plt.contourf(beta_0,beta_1,np.log(cost_map))\n",
    "\n",
    "aux=0\n",
    "for i in beta_hist:\n",
    "    \n",
    "    plt.scatter(i[0],i[1],color='red',edgecolor='black',s=10)\n",
    "\n",
    "plt.colorbar()"
   ]
  },
  {
   "cell_type": "code",
   "execution_count": 73,
   "metadata": {},
   "outputs": [
    {
     "data": {
      "text/plain": [
       "<matplotlib.colorbar.Colorbar at 0x7f4a04467d68>"
      ]
     },
     "execution_count": 73,
     "metadata": {},
     "output_type": "execute_result"
    },
    {
     "data": {
      "image/png": "[encoded data removed]",
      "text/plain": [
       "<Figure size 720x576 with 2 Axes>"
      ]
     },
     "metadata": {
      "needs_background": "light"
     },
     "output_type": "display_data"
    }
   ],
   "source": [
    "plt.figure(figsize=(10,8))\n",
    "\n",
    "beta_0, beta_1 = np.linspace(-5,15,200),np.linspace(-5,15,200)\n",
    "\n",
    "b0,b1 = np.meshgrid(beta_0,beta_1)\n",
    "\n",
    "cost_map = np.zeros(shape=b0.shape)\n",
    "\n",
    "for i in range(0,200):\n",
    "    for j in range(0,200):\n",
    "        cost_map[i][j] = cost(np.asarray([b1[i][j],b0[i][j]]),x_1,y)\n",
    "        \n",
    "plt.contourf(beta_0,beta_1,np.log(cost_map))\n",
    "\n",
    "aux=0\n",
    "for i in beta_hist:\n",
    "    \n",
    "    plt.scatter(i[0],i[1],color='red',edgecolor='black',s=10)\n",
    "    plt.text(i[0],i[1],str(aux))\n",
    "    aux+=1\n",
    "\n",
    "plt.colorbar()"
   ]
  },
  {
   "cell_type": "code",
   "execution_count": 74,
   "metadata": {},
   "outputs": [
    {
     "data": {
      "text/plain": [
       "array([[-0.16841567,  2.7551407 ],\n",
       "       [ 9.53244626,  6.06569373],\n",
       "       [ 2.94010077,  4.0176008 ],\n",
       "       [ 7.32239473,  5.57071746],\n",
       "       [ 4.31646508,  4.69158503],\n",
       "       [ 6.28816894,  5.44355749],\n",
       "       [ 4.90997644,  5.09056287],\n",
       "       [ 5.78973996,  5.47539962],\n",
       "       [ 5.15092488,  5.35734393],\n",
       "       [ 5.5366511 ,  5.57217268]])"
      ]
     },
     "execution_count": 74,
     "metadata": {},
     "output_type": "execute_result"
    }
   ],
   "source": [
    "beta_hist"
   ]
  },
  {
   "cell_type": "code",
   "execution_count": null,
   "metadata": {},
   "outputs": [],
   "source": []
  },
  {
   "cell_type": "code",
   "execution_count": 75,
   "metadata": {},
   "outputs": [
    {
     "data": {
      "text/plain": [
       "9.213215065702018"
      ]
     },
     "execution_count": 75,
     "metadata": {},
     "output_type": "execute_result"
    }
   ],
   "source": [
    "np.min(cost_map)"
   ]
  },
  {
   "cell_type": "code",
   "execution_count": 76,
   "metadata": {},
   "outputs": [
    {
     "data": {
      "text/plain": [
       "array([[1468.51247671, 1461.28566839, 1454.07906158, ...,  434.84159172,\n",
       "         431.59448089,  428.36757156],\n",
       "       [1447.71248601, 1440.53457908, 1433.37687365, ...,  423.67517282,\n",
       "         420.47696337,  417.29895542],\n",
       "       [1427.06545558, 1419.93645002, 1412.82764598, ...,  412.66171418,\n",
       "         409.51240611,  406.38329954],\n",
       "       ...,\n",
       "       [ 323.9650781 ,  326.37184158,  328.79880657, ..., 1188.10783608,\n",
       "        1194.49429704, 1200.90095951],\n",
       "       [ 333.29825851,  335.75392337,  338.22978973, ..., 1207.07458828,\n",
       "        1213.50995062, 1219.96551447],\n",
       "       [ 342.78439918,  345.28896541,  347.81373316, ..., 1226.19430074,\n",
       "        1232.67856446, 1239.18302968]])"
      ]
     },
     "execution_count": 76,
     "metadata": {},
     "output_type": "execute_result"
    }
   ],
   "source": [
    "cost_map"
   ]
  },
  {
   "cell_type": "code",
   "execution_count": 77,
   "metadata": {},
   "outputs": [
    {
     "ename": "IndexError",
     "evalue": "arrays used as indices must be of integer (or boolean) type",
     "output_type": "error",
     "traceback": [
      "\u001b[0;31m---------------------------------------------------------------------------\u001b[0m",
      "\u001b[0;31mIndexError\u001b[0m                                Traceback (most recent call last)",
      "\u001b[0;32m<ipython-input-77-2aa383083304>\u001b[0m in \u001b[0;36m<module>\u001b[0;34m\u001b[0m\n\u001b[0;32m----> 1\u001b[0;31m \u001b[0mcost\u001b[0m\u001b[0;34m(\u001b[0m\u001b[0mnp\u001b[0m\u001b[0;34m.\u001b[0m\u001b[0masarray\u001b[0m\u001b[0;34m(\u001b[0m\u001b[0;34m[\u001b[0m\u001b[0mb1\u001b[0m\u001b[0;34m[\u001b[0m\u001b[0mi\u001b[0m\u001b[0;34m]\u001b[0m\u001b[0;34m[\u001b[0m\u001b[0mj\u001b[0m\u001b[0;34m]\u001b[0m\u001b[0;34m,\u001b[0m\u001b[0mb0\u001b[0m\u001b[0;34m[\u001b[0m\u001b[0mi\u001b[0m\u001b[0;34m]\u001b[0m\u001b[0;34m[\u001b[0m\u001b[0mj\u001b[0m\u001b[0;34m]\u001b[0m\u001b[0;34m]\u001b[0m\u001b[0;34m)\u001b[0m\u001b[0;34m,\u001b[0m\u001b[0mx_1\u001b[0m\u001b[0;34m,\u001b[0m\u001b[0my\u001b[0m\u001b[0;34m)\u001b[0m\u001b[0;34m\u001b[0m\u001b[0;34m\u001b[0m\u001b[0m\n\u001b[0m",
      "\u001b[0;31mIndexError\u001b[0m: arrays used as indices must be of integer (or boolean) type"
     ]
    }
   ],
   "source": [
    "cost(np.asarray([b1[i][j],b0[i][j]]),x_1,y)"
   ]
  },
  {
   "cell_type": "code",
   "execution_count": null,
   "metadata": {},
   "outputs": [],
   "source": [
    "cost(d)"
   ]
  },
  {
   "cell_type": "code",
   "execution_count": null,
   "metadata": {},
   "outputs": [],
   "source": [
    "cost([b0[i][j],b1[i][j]],x_1,y)a"
   ]
  },
  {
   "cell_type": "code",
   "execution_count": null,
   "metadata": {},
   "outputs": [],
   "source": [
    "b0.shape"
   ]
  },
  {
   "cell_type": "code",
   "execution_count": null,
   "metadata": {},
   "outputs": [],
   "source": []
  }
 ],
 "metadata": {
  "kernelspec": {
   "display_name": "Python 3",
   "language": "python",
   "name": "python3"
  },
  "language_info": {
   "codemirror_mode": {
    "name": "ipython",
    "version": 3
   },
   "file_extension": ".py",
   "mimetype": "text/x-python",
   "name": "python",
   "nbconvert_exporter": "python",
   "pygments_lexer": "ipython3",
   "version": "3.7.3"
  }
 },
 "nbformat": 4,
 "nbformat_minor": 2
}
