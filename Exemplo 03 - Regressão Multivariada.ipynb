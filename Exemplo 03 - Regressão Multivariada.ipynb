{
 "cells": [
  {
   "cell_type": "code",
   "execution_count": 1,
   "metadata": {},
   "outputs": [],
   "source": [
    "#Importando bibliotecas\n",
    "import numpy as np\n",
    "import matplotlib.pyplot as plt\n",
    "from sklearn.metrics import mean_squared_error\n",
    "import pandas as pd\n",
    "\n",
    "from gradiente import *"
   ]
  },
  {
   "cell_type": "markdown",
   "metadata": {},
   "source": [
    "## <center> Revisão </center>\n",
    "\n",
    "## <center> Função objetivo (custo) </center>\n",
    "\n",
    "A função objetivo a qual desejamos minimizar na regressão linear é:\n",
    "\n",
    "$$L(\\boldsymbol{\\beta}) = \\frac{1}{n} || \\textbf{y} - \\beta_0 \\textbf{u} - \\beta_1 \\textbf{x}_1 ||^2 = \\frac{1}{n} (\\textbf{y} - \\beta_0 \\textbf{u} - \\beta_1 \\textbf{x}_1 )^t(\\textbf{y} - \\beta_0 \\textbf{u} - \\beta_1 \\textbf{x}_1)$$\n",
    "\n",
    "\n",
    "\\\\\n",
    "\n",
    "$$ \\frac{\\partial L}{\\partial \\boldsymbol{\\beta}} = \\begin{cases}\n",
    " \\frac{\\partial L}{\\beta_0}= 2 ||\\textbf{y}-\\beta_0 \\textbf{u} -\\beta_1 \\textbf{x}_1||\\textbf{u} = (\\textbf{y}-\\beta_0 \\textbf{u} -\\beta_1 \\textbf{x}_1)^t \\textbf{u} \\\\ \\\\\n",
    " \\frac{\\partial L}{\\beta_1}= 2 ||\\textbf{y}-\\beta_0 \\textbf{u} -\\beta_1 \\textbf{x}_1||\\textbf{x}_1 = (\\textbf{y}-\\beta_0 \\textbf{u} -\\beta_1 \\textbf{x}_1)^t \\textbf{x}_1 \\\\ \n",
    "\\end{cases}$$\n"
   ]
  },
  {
   "cell_type": "markdown",
   "metadata": {},
   "source": [
    "Podemos expandir a função objetivo para um modelo de multiplas variáveis:\n",
    "\n",
    "$$L(\\boldsymbol{\\beta}) = \\frac{1}{n} || \\textbf{y} - \\beta_0 \\textbf{u} - \\beta_1 \\textbf{x}_1 - \\beta_2 \\textbf{x}_2 + ... - \\beta_j \\textbf{x}_j ||^2 $$\n",
    "\n",
    "\\\\\n",
    "\n",
    "\n",
    "$$ \\frac{\\partial L}{\\partial \\boldsymbol{\\beta}} = \\begin{cases}\n",
    " \\frac{\\partial L}{\\beta_0}= 2 ||\\textbf{y}-\\beta_0 \\textbf{u} -\\beta_1 \\textbf{x}_1 - \\beta_2\\textbf{x}_2 - ... + \\beta_j \\textbf{x}_j||\\textbf{u} = (\\textbf{y}-\\beta_0 \\textbf{u} -\\beta_1 \\textbf{x}_1-\\beta_2\\textbf{x}_2 - ... - \\beta_j \\textbf{x}_j)^t \\textbf{u} \\\\ \\\\\n",
    "  \\frac{\\partial L}{\\beta_1}= 2 ||\\textbf{y}-\\beta_0 \\textbf{u} -\\beta_1 \\textbf{x}_1 - \\beta_2\\textbf{x}_2 - ... + \\beta_j \\textbf{x}_j||\\textbf{x}_1 = (\\textbf{y}-\\beta_0 \\textbf{u} -\\beta_1 \\textbf{x}_1-\\beta_2\\textbf{x}_2 - ... - \\beta_j \\textbf{x}_j)^t \\textbf{x}_1 \\\\ \\\\\n",
    " \\frac{\\partial L}{\\beta_2}= 2 ||\\textbf{y}-\\beta_0 \\textbf{u} -\\beta_1 \\textbf{x}_1 - \\beta_2\\textbf{x}_2 - ... + \\beta_j \\textbf{x}_j||\\textbf{x}_2 = (\\textbf{y}-\\beta_0 \\textbf{u} -\\beta_1 \\textbf{x}_1-\\beta_2\\textbf{x}_2 - ... - \\beta_j \\textbf{x}_j)^t \\textbf{x}_2\\\\ \\\\\n",
    " \\vdots \\; \\; \\; = \\; \\; \\; \\; \\; \\; \\; \\; \\; \\; \\; \\; \\; \\; \\; \\; \\; \\; \\; \\; \\; \\; \\; \\; \\; \\; \\; \\vdots \\\\ \\\\\n",
    "  \\frac{\\partial L}{\\beta_j}= 2 ||\\textbf{y}-\\beta_0 \\textbf{u} -\\beta_1 \\textbf{x}_1 - \\beta_2\\textbf{x}_2 - ... + \\beta_j \\textbf{x}_j||\\textbf{x}_j\\ = (\\textbf{y}-\\beta_0 \\textbf{u} -\\beta_1 \\textbf{x}_1-\\beta_2\\textbf{x}_2 - ... - \\beta_j \\textbf{x}_j)^t \\textbf{x}_j\\\\ \\\\\n",
    "\\end{cases}$$\n"
   ]
  },
  {
   "cell_type": "code",
   "execution_count": 2,
   "metadata": {},
   "outputs": [],
   "source": [
    "from gradiente import *"
   ]
  },
  {
   "cell_type": "markdown",
   "metadata": {},
   "source": [
    "#### Gerando um Dataset sintético:\n",
    "\n",
    "A função utilizada para gerar o conjunto de dados sintético será:\n",
    "\n",
    "$$ y = \\beta_0 + \\beta_1 x_1 + \\beta_2 x_2$$\n",
    "\n",
    "onde $\\beta_0 = 7$, $\\beta_1 = 3$ e $\\beta_2 = 15$, ou seja:\n",
    "\n",
    "$$ y = 7 + 2x_1+ 5x_2 $$\n",
    "\n",
    "onde $x_2 = x_1^3$"
   ]
  },
  {
   "cell_type": "code",
   "execution_count": 3,
   "metadata": {},
   "outputs": [],
   "source": [
    "X = 8*np.random.rand(250) -4 #Gerando as observações aleatóriamente\n",
    "y = 5*X**3 + 2*X + 7 + 50*np.random.normal(size=250) # adicionando um ruído no dado observado"
   ]
  },
  {
   "cell_type": "code",
   "execution_count": 4,
   "metadata": {},
   "outputs": [
    {
     "data": {
      "text/plain": [
       "<matplotlib.legend.Legend at 0x7ff1fb43eb38>"
      ]
     },
     "execution_count": 4,
     "metadata": {},
     "output_type": "execute_result"
    },
    {
     "data": {
      "image/png": "[encoded data removed]",
      "text/plain": [
       "<Figure size 432x288 with 1 Axes>"
      ]
     },
     "metadata": {
      "needs_background": "light"
     },
     "output_type": "display_data"
    }
   ],
   "source": [
    "plt.scatter(X,y,edgecolor='black',label='Dado observado')\n",
    "plt.xlabel('X') ; plt.ylabel('Y')\n",
    "plt.legend()"
   ]
  },
  {
   "cell_type": "code",
   "execution_count": 5,
   "metadata": {},
   "outputs": [
    {
     "data": {
      "text/html": [
       "<div>\n",
       "<style scoped>\n",
       "    .dataframe tbody tr th:only-of-type {\n",
       "        vertical-align: middle;\n",
       "    }\n",
       "\n",
       "    .dataframe tbody tr th {\n",
       "        vertical-align: top;\n",
       "    }\n",
       "\n",
       "    .dataframe thead th {\n",
       "        text-align: right;\n",
       "    }\n",
       "</style>\n",
       "<table border=\"1\" class=\"dataframe\">\n",
       "  <thead>\n",
       "    <tr style=\"text-align: right;\">\n",
       "      <th></th>\n",
       "      <th>yobs</th>\n",
       "      <th>x</th>\n",
       "      <th>x2</th>\n",
       "    </tr>\n",
       "  </thead>\n",
       "  <tbody>\n",
       "    <tr>\n",
       "      <th>0</th>\n",
       "      <td>-201.976021</td>\n",
       "      <td>-3.509934</td>\n",
       "      <td>-43.241103</td>\n",
       "    </tr>\n",
       "    <tr>\n",
       "      <th>1</th>\n",
       "      <td>-127.250113</td>\n",
       "      <td>-2.124267</td>\n",
       "      <td>-9.585777</td>\n",
       "    </tr>\n",
       "    <tr>\n",
       "      <th>2</th>\n",
       "      <td>118.965196</td>\n",
       "      <td>2.734976</td>\n",
       "      <td>20.457866</td>\n",
       "    </tr>\n",
       "    <tr>\n",
       "      <th>3</th>\n",
       "      <td>-357.441967</td>\n",
       "      <td>-3.771227</td>\n",
       "      <td>-53.634968</td>\n",
       "    </tr>\n",
       "    <tr>\n",
       "      <th>4</th>\n",
       "      <td>-75.930669</td>\n",
       "      <td>2.187708</td>\n",
       "      <td>10.470521</td>\n",
       "    </tr>\n",
       "  </tbody>\n",
       "</table>\n",
       "</div>"
      ],
      "text/plain": [
       "         yobs         x         x2\n",
       "0 -201.976021 -3.509934 -43.241103\n",
       "1 -127.250113 -2.124267  -9.585777\n",
       "2  118.965196  2.734976  20.457866\n",
       "3 -357.441967 -3.771227 -53.634968\n",
       "4  -75.930669  2.187708  10.470521"
      ]
     },
     "execution_count": 5,
     "metadata": {},
     "output_type": "execute_result"
    }
   ],
   "source": [
    "data = pd.DataFrame({'yobs':y,'x':X,'x2':X**3})\n",
    "data.head()"
   ]
  },
  {
   "cell_type": "markdown",
   "metadata": {},
   "source": [
    "#### Obtendo os parâmetros do modelo"
   ]
  },
  {
   "cell_type": "code",
   "execution_count": 12,
   "metadata": {},
   "outputs": [
    {
     "data": {
      "text/plain": [
       "array([-2.8473988 , -1.29384774, -0.13793594])"
      ]
     },
     "execution_count": 12,
     "metadata": {},
     "output_type": "execute_result"
    }
   ],
   "source": [
    "beta_ini = 5*np.random.normal(size=3)\n",
    "beta_ini"
   ]
  },
  {
   "cell_type": "code",
   "execution_count": 13,
   "metadata": {},
   "outputs": [
    {
     "data": {
      "text/html": [
       "<div>\n",
       "<style scoped>\n",
       "    .dataframe tbody tr th:only-of-type {\n",
       "        vertical-align: middle;\n",
       "    }\n",
       "\n",
       "    .dataframe tbody tr th {\n",
       "        vertical-align: top;\n",
       "    }\n",
       "\n",
       "    .dataframe thead th {\n",
       "        text-align: right;\n",
       "    }\n",
       "</style>\n",
       "<table border=\"1\" class=\"dataframe\">\n",
       "  <thead>\n",
       "    <tr style=\"text-align: right;\">\n",
       "      <th></th>\n",
       "      <th>x</th>\n",
       "      <th>x2</th>\n",
       "    </tr>\n",
       "  </thead>\n",
       "  <tbody>\n",
       "    <tr>\n",
       "      <th>0</th>\n",
       "      <td>-3.509934</td>\n",
       "      <td>-43.241103</td>\n",
       "    </tr>\n",
       "    <tr>\n",
       "      <th>1</th>\n",
       "      <td>-2.124267</td>\n",
       "      <td>-9.585777</td>\n",
       "    </tr>\n",
       "    <tr>\n",
       "      <th>2</th>\n",
       "      <td>2.734976</td>\n",
       "      <td>20.457866</td>\n",
       "    </tr>\n",
       "    <tr>\n",
       "      <th>3</th>\n",
       "      <td>-3.771227</td>\n",
       "      <td>-53.634968</td>\n",
       "    </tr>\n",
       "    <tr>\n",
       "      <th>4</th>\n",
       "      <td>2.187708</td>\n",
       "      <td>10.470521</td>\n",
       "    </tr>\n",
       "  </tbody>\n",
       "</table>\n",
       "</div>"
      ],
      "text/plain": [
       "          x         x2\n",
       "0 -3.509934 -43.241103\n",
       "1 -2.124267  -9.585777\n",
       "2  2.734976  20.457866\n",
       "3 -3.771227 -53.634968\n",
       "4  2.187708  10.470521"
      ]
     },
     "execution_count": 13,
     "metadata": {},
     "output_type": "execute_result"
    }
   ],
   "source": [
    "X_m = data[['x','x2']]\n",
    "X_m.head()"
   ]
  },
  {
   "cell_type": "code",
   "execution_count": 48,
   "metadata": {},
   "outputs": [],
   "source": [
    "beta_calc, cost_hist, beta_hist = gradient_descent(X_m[['x','x2']],y,beta_ini,alpha=0.00005,ninter=400)"
   ]
  },
  {
   "cell_type": "code",
   "execution_count": 49,
   "metadata": {},
   "outputs": [],
   "source": [
    "X_m['u'] = 1"
   ]
  },
  {
   "cell_type": "code",
   "execution_count": 50,
   "metadata": {},
   "outputs": [
    {
     "data": {
      "text/plain": [
       "<matplotlib.legend.Legend at 0x7ff1f9a48b70>"
      ]
     },
     "execution_count": 50,
     "metadata": {},
     "output_type": "execute_result"
    },
    {
     "data": {
      "image/png": "[encoded data removed]",
      "text/plain": [
       "<Figure size 432x288 with 1 Axes>"
      ]
     },
     "metadata": {
      "needs_background": "light"
     },
     "output_type": "display_data"
    }
   ],
   "source": [
    "plt.scatter(X,y,edgecolor='black',label='$y_{obs}$')\n",
    "\n",
    "plt.scatter(X_m['x'],predict(beta_ini,X_m),c='red',label='modelo inicial')\n",
    "\n",
    "plt.scatter(X_m['x'],predict(beta_calc,X_m),c='green',label='modelo calculado')\n",
    "\n",
    "plt.legend()"
   ]
  },
  {
   "cell_type": "code",
   "execution_count": 51,
   "metadata": {},
   "outputs": [
    {
     "data": {
      "text/plain": [
       "26465.268201829218"
      ]
     },
     "execution_count": 51,
     "metadata": {},
     "output_type": "execute_result"
    }
   ],
   "source": [
    "cost_hist[0]"
   ]
  },
  {
   "cell_type": "code",
   "execution_count": 52,
   "metadata": {},
   "outputs": [
    {
     "data": {
      "text/plain": [
       "2463.5364963809466"
      ]
     },
     "execution_count": 52,
     "metadata": {},
     "output_type": "execute_result"
    }
   ],
   "source": [
    "cost_hist[-1]"
   ]
  },
  {
   "cell_type": "code",
   "execution_count": 56,
   "metadata": {},
   "outputs": [
    {
     "data": {
      "text/plain": [
       "[<matplotlib.lines.Line2D at 0x7ff1f9859dd8>]"
      ]
     },
     "execution_count": 56,
     "metadata": {},
     "output_type": "execute_result"
    },
    {
     "data": {
      "image/png": "[encoded data removed]",
      "text/plain": [
       "<Figure size 432x288 with 1 Axes>"
      ]
     },
     "metadata": {
      "needs_background": "light"
     },
     "output_type": "display_data"
    }
   ],
   "source": [
    "plt.plot(cost_hist[0:50])"
   ]
  },
  {
   "cell_type": "code",
   "execution_count": 38,
   "metadata": {},
   "outputs": [
    {
     "data": {
      "text/plain": [
       "array([-1.95000797,  5.37224001,  0.22893444])"
      ]
     },
     "execution_count": 38,
     "metadata": {},
     "output_type": "execute_result"
    }
   ],
   "source": [
    "beta_calc"
   ]
  },
  {
   "cell_type": "code",
   "execution_count": null,
   "metadata": {},
   "outputs": [],
   "source": []
  }
 ],
 "metadata": {
  "kernelspec": {
   "display_name": "Python 3",
   "language": "python",
   "name": "python3"
  },
  "language_info": {
   "codemirror_mode": {
    "name": "ipython",
    "version": 3
   },
   "file_extension": ".py",
   "mimetype": "text/x-python",
   "name": "python",
   "nbconvert_exporter": "python",
   "pygments_lexer": "ipython3",
   "version": "3.7.3"
  }
 },
 "nbformat": 4,
 "nbformat_minor": 2
}
